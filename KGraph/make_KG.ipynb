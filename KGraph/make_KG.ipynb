{
 "cells": [
  {
   "cell_type": "code",
   "execution_count": 1,
   "metadata": {},
   "outputs": [],
   "source": [
    "from py2neo import Graph,Node,Relationship\n",
    "import pandas as pd"
   ]
  },
  {
   "cell_type": "code",
   "execution_count": 5,
   "metadata": {},
   "outputs": [
    {
     "data": {
      "text/html": [
       "(No data)"
      ],
      "text/plain": [
       "(No data)"
      ]
     },
     "execution_count": 5,
     "metadata": {},
     "output_type": "execute_result"
    }
   ],
   "source": [
    "graph = Graph(\"neo4j://localhost:7687\", auth=(\"neo4j\", \"jj20jj20\"))\n",
    "# 清除图表\n",
    "graph.run(\"match (n) detach delete n\")"
   ]
  },
  {
   "cell_type": "code",
   "execution_count": 6,
   "metadata": {},
   "outputs": [],
   "source": [
    "# 获取数据\n",
    "relations = pd.read_csv('song_relations.csv')\n",
    "relations.columns = ['id', 'h', 'relation', 't']"
   ]
  },
  {
   "cell_type": "code",
   "execution_count": 7,
   "metadata": {},
   "outputs": [
    {
     "data": {
      "text/html": [
       "<div>\n",
       "<style scoped>\n",
       "    .dataframe tbody tr th:only-of-type {\n",
       "        vertical-align: middle;\n",
       "    }\n",
       "\n",
       "    .dataframe tbody tr th {\n",
       "        vertical-align: top;\n",
       "    }\n",
       "\n",
       "    .dataframe thead th {\n",
       "        text-align: right;\n",
       "    }\n",
       "</style>\n",
       "<table border=\"1\" class=\"dataframe\">\n",
       "  <thead>\n",
       "    <tr style=\"text-align: right;\">\n",
       "      <th></th>\n",
       "      <th>id</th>\n",
       "      <th>h</th>\n",
       "      <th>relation</th>\n",
       "      <th>t</th>\n",
       "    </tr>\n",
       "  </thead>\n",
       "  <tbody>\n",
       "    <tr>\n",
       "      <th>0</th>\n",
       "      <td>0</td>\n",
       "      <td>The Show</td>\n",
       "      <td>歌手</td>\n",
       "      <td>林俊杰</td>\n",
       "    </tr>\n",
       "    <tr>\n",
       "      <th>1</th>\n",
       "      <td>1</td>\n",
       "      <td>The Show</td>\n",
       "      <td>歌手</td>\n",
       "      <td>Steve Aoki</td>\n",
       "    </tr>\n",
       "    <tr>\n",
       "      <th>2</th>\n",
       "      <td>2</td>\n",
       "      <td>The Show</td>\n",
       "      <td>作词</td>\n",
       "      <td>Steve Aoki</td>\n",
       "    </tr>\n",
       "    <tr>\n",
       "      <th>3</th>\n",
       "      <td>3</td>\n",
       "      <td>The Show</td>\n",
       "      <td>作词</td>\n",
       "      <td>Carl Ryden</td>\n",
       "    </tr>\n",
       "    <tr>\n",
       "      <th>4</th>\n",
       "      <td>4</td>\n",
       "      <td>The Show</td>\n",
       "      <td>作词</td>\n",
       "      <td>James Daniel Lewis</td>\n",
       "    </tr>\n",
       "    <tr>\n",
       "      <th>...</th>\n",
       "      <td>...</td>\n",
       "      <td>...</td>\n",
       "      <td>...</td>\n",
       "      <td>...</td>\n",
       "    </tr>\n",
       "    <tr>\n",
       "      <th>1180</th>\n",
       "      <td>1180</td>\n",
       "      <td>会有那么一天</td>\n",
       "      <td>作曲</td>\n",
       "      <td>林俊杰</td>\n",
       "    </tr>\n",
       "    <tr>\n",
       "      <th>1181</th>\n",
       "      <td>1181</td>\n",
       "      <td>不懂</td>\n",
       "      <td>歌手</td>\n",
       "      <td>林俊杰</td>\n",
       "    </tr>\n",
       "    <tr>\n",
       "      <th>1182</th>\n",
       "      <td>1182</td>\n",
       "      <td>不懂</td>\n",
       "      <td>所属专辑</td>\n",
       "      <td>乐行者</td>\n",
       "    </tr>\n",
       "    <tr>\n",
       "      <th>1183</th>\n",
       "      <td>1183</td>\n",
       "      <td>不懂</td>\n",
       "      <td>作词</td>\n",
       "      <td>张思尔</td>\n",
       "    </tr>\n",
       "    <tr>\n",
       "      <th>1184</th>\n",
       "      <td>1184</td>\n",
       "      <td>不懂</td>\n",
       "      <td>作曲</td>\n",
       "      <td>林俊杰</td>\n",
       "    </tr>\n",
       "  </tbody>\n",
       "</table>\n",
       "<p>1185 rows × 4 columns</p>\n",
       "</div>"
      ],
      "text/plain": [
       "        id         h relation                   t\n",
       "0        0  The Show       歌手                 林俊杰\n",
       "1        1  The Show       歌手          Steve Aoki\n",
       "2        2  The Show       作词          Steve Aoki\n",
       "3        3  The Show       作词          Carl Ryden\n",
       "4        4  The Show       作词  James Daniel Lewis\n",
       "...    ...       ...      ...                 ...\n",
       "1180  1180    会有那么一天       作曲                 林俊杰\n",
       "1181  1181        不懂       歌手                 林俊杰\n",
       "1182  1182        不懂     所属专辑                 乐行者\n",
       "1183  1183        不懂       作词                 张思尔\n",
       "1184  1184        不懂       作曲                 林俊杰\n",
       "\n",
       "[1185 rows x 4 columns]"
      ]
     },
     "execution_count": 7,
     "metadata": {},
     "output_type": "execute_result"
    }
   ],
   "source": [
    "relations"
   ]
  },
  {
   "cell_type": "code",
   "execution_count": 8,
   "metadata": {},
   "outputs": [],
   "source": [
    "# 将人物和歌曲作为实体\n",
    "humans = {}\n",
    "songs = {}\n",
    "\n",
    "for _, row in relations.iterrows():\n",
    "    if row['relation'] != \"所属专辑\":\n",
    "        if row['h'] not in songs:\n",
    "            songs[row['h']] = Node(\"歌曲\", name=row['h'])\n",
    "        if row['t'] not in humans:\n",
    "            humans[row['t']] = Node(\"人物\", name=row['t'])"
   ]
  },
  {
   "cell_type": "code",
   "execution_count": 9,
   "metadata": {},
   "outputs": [],
   "source": [
    "# 所属专辑作为歌曲属性\n",
    "for _, row in relations.iterrows():\n",
    "    if row['relation'] == \"所属专辑\":\n",
    "        songs[row['h']]['专辑'] = row['t']"
   ]
  },
  {
   "cell_type": "code",
   "execution_count": 10,
   "metadata": {},
   "outputs": [],
   "source": [
    "# 进行关系制作\n",
    "for _, row in relations.iterrows():\n",
    "    if row['relation'] != \"所属专辑\":\n",
    "        r = Relationship(songs[row['h']], row['relation'], humans[row['t']])\n",
    "        graph.create(r)"
   ]
  },
  {
   "cell_type": "code",
   "execution_count": 11,
   "metadata": {},
   "outputs": [
    {
     "data": {
      "text/plain": [
       "Graph('neo4j://localhost:7687')"
      ]
     },
     "execution_count": 11,
     "metadata": {},
     "output_type": "execute_result"
    }
   ],
   "source": [
    "graph"
   ]
  },
  {
   "cell_type": "code",
   "execution_count": null,
   "metadata": {},
   "outputs": [],
   "source": []
  }
 ],
 "metadata": {
  "kernelspec": {
   "display_name": "Python 3.10.4 ('KGraph': venv)",
   "language": "python",
   "name": "python3"
  },
  "language_info": {
   "codemirror_mode": {
    "name": "ipython",
    "version": 3
   },
   "file_extension": ".py",
   "mimetype": "text/x-python",
   "name": "python",
   "nbconvert_exporter": "python",
   "pygments_lexer": "ipython3",
   "version": "3.12.4"
  },
  "orig_nbformat": 4,
  "vscode": {
   "interpreter": {
    "hash": "a790821808f2bf3f37baf7342e2c8484289a7481ff0490d798038c1f5bd56717"
   }
  }
 },
 "nbformat": 4,
 "nbformat_minor": 2
}
