{
 "cells": [
  {
   "cell_type": "code",
   "execution_count": 1,
   "metadata": {},
   "outputs": [],
   "source": [
    "import requests\n",
    "import re\n",
    "from bs4 import BeautifulSoup\n",
    "import pandas as pd\n",
    "import urllib.request\n",
    "import time\n",
    "import random"
   ]
  },
  {
   "cell_type": "code",
   "execution_count": 4,
   "metadata": {},
   "outputs": [],
   "source": [
    "# 获取歌曲名称\n",
    "new_song_names = pd.read_csv(\"all_songs.csv\")['songs'].to_list()\n",
    "old_song_names = pd.read_csv(\"song_infos.csv\")['歌曲名称'].to_list()\n",
    "add_song_names = list(set(new_song_names)-set(old_song_names))"
   ]
  },
  {
   "cell_type": "code",
   "execution_count": 5,
   "metadata": {},
   "outputs": [
    {
     "data": {
      "text/plain": [
       "['A Day At A Time',\n",
       " \"You're My Superhero\",\n",
       " 'Help!',\n",
       " '一千年后记得我',\n",
       " '我们很好',\n",
       " '新年到',\n",
       " '梦想的翅膀',\n",
       " '绝不绝',\n",
       " 'Better With You',\n",
       " '全面开战',\n",
       " '你還不知道?',\n",
       " '사랑해요只对你说',\n",
       " 'Positive Procrastination',\n",
       " '曙光']"
      ]
     },
     "execution_count": 5,
     "metadata": {},
     "output_type": "execute_result"
    }
   ],
   "source": [
    "# 检查用\n",
    "add_song_names"
   ]
  },
  {
   "cell_type": "code",
   "execution_count": 6,
   "metadata": {},
   "outputs": [
    {
     "name": "stdout",
     "output_type": "stream",
     "text": [
      "[1/14] A Day At A Time:\n",
      "找不到对应百科\n",
      "[2/14] You're My Superhero:\n",
      "找不到对应百科\n",
      "[3/14] Help!:\n",
      "找不到对应百科\n",
      "[4/14] 一千年后记得我:\n",
      "添加歌曲信息成功\n",
      "[5/14] 我们很好:\n",
      "添加歌曲信息成功\n",
      "[6/14] 新年到:\n",
      "添加歌曲信息成功\n",
      "[7/14] 梦想的翅膀:\n",
      "找不到对应百科\n",
      "[8/14] 绝不绝:\n",
      "添加歌曲信息成功\n",
      "[9/14] Better With You:\n",
      "找不到对应百科\n",
      "[10/14] 全面开战:\n",
      "找不到对应百科\n",
      "[11/14] 你還不知道?:\n",
      "找不到对应百科\n",
      "[12/14] 사랑해요只对你说:\n",
      "找不到对应百科\n",
      "[13/14] Positive Procrastination:\n",
      "找不到对应百科\n",
      "[14/14] 曙光:\n",
      "找不到对应百科\n"
     ]
    }
   ],
   "source": [
    "song_infos = []\n",
    "\n",
    "url_baike = \"https://baike.baidu.com\"\n",
    "\n",
    "# 四种情况\n",
    "# case 1:正确找到对应歌曲百科\n",
    "# case 2:找到多义词的百科界面-->需跳转到多义词的列表界面-->找到对应歌曲百科\n",
    "# case 3:找到多义词的列表界面-->找到对应歌曲百科\n",
    "# case 4:找不到百科\n",
    "\n",
    "# 找到资料的前一个a标签\n",
    "def is_info_pre_a(tag):\n",
    "    return tag.has_attr('name') and tag['name'] == 'lemma-summary'\n",
    "\n",
    "pattern = r'^共\\d+个义项'\n",
    "# 若有多义词，则必存在指向多义词的a标签\n",
    "def is_multi_a(tag):\n",
    "    return tag.has_attr('href') and re.search(pattern=pattern, string=tag.text)\n",
    "\n",
    "# 从多义词列表中找到歌曲链接\n",
    "def is_target_a(tag):\n",
    "    return tag.has_attr('href') and \"林俊杰\" in tag.text\n",
    "\n",
    "# case 1\n",
    "def get_baike(url):\n",
    "    res = requests.get(url)\n",
    "    soup = BeautifulSoup(res.text, \"lxml\")\n",
    "    try:\n",
    "        d = soup.find(is_info_pre_a).next_sibling\n",
    "        if \"林俊杰\" in d.get_text():\n",
    "            song_infos.append([name, d.get_text()])\n",
    "            print(\"添加歌曲信息成功\")\n",
    "        else:\n",
    "            # case 2\n",
    "            d = soup.find(is_multi_a)\n",
    "            res = requests.get(url=url_baike+d['href'])\n",
    "            soup = BeautifulSoup(res.text, \"lxml\")\n",
    "            # 进入case 3\n",
    "            d = soup.find(is_target_a)\n",
    "            if d is None:\n",
    "                # 说明找不到该歌曲对应百科\n",
    "                print(\"找不到对应百科\")\n",
    "            else:\n",
    "                res = requests.get(url=url_baike+d['href'])\n",
    "                soup = BeautifulSoup(res.text, \"lxml\")\n",
    "\n",
    "                d = soup.find(is_info_pre_a).next_sibling\n",
    "                song_infos.append([name, d.get_text()])\n",
    "                print(\"添加歌曲信息成功\")\n",
    "    except:\n",
    "        # case 3 or case 4\n",
    "        # 如果能找到有林俊杰的a标签则是case 3\n",
    "        d = soup.find(is_target_a)\n",
    "        if d is None:\n",
    "            # 说明找不到该歌曲对应百科\n",
    "            print(\"找不到对应百科\")\n",
    "        else:\n",
    "            res = requests.get(url=url_baike+d['href'])\n",
    "            soup = BeautifulSoup(res.text, \"lxml\")\n",
    "\n",
    "            d = soup.find(is_info_pre_a).next_sibling\n",
    "            song_infos.append([name, d.get_text()])\n",
    "            print(\"添加歌曲信息成功\")\n",
    "\n",
    "num = 1\n",
    "for name in add_song_names:\n",
    "    print(\"[\"+str(num) + \"/\" + str(len(add_song_names))+\"] \"+name+\":\")\n",
    "    get_baike(url=url_baike+\"/item/\"+name)\n",
    "\n",
    "    num += 1\n",
    "    n = random.randint(0, 10)\n",
    "    time.sleep(n * 0.1)\n",
    "    \n",
    "\n"
   ]
  },
  {
   "cell_type": "code",
   "execution_count": 7,
   "metadata": {},
   "outputs": [
    {
     "data": {
      "text/plain": [
       "[['一千年后记得我',\n",
       "  '歌曲《一千年后记得我》，由林俊杰演唱，林秋离填词，林俊杰谱曲，收录于林俊杰2013年3月13日正式发行的第十张个人专辑《因你而在》中的隐藏曲目 [2]'],\n",
       " ['我们很好', '《我们很好》是林俊杰于2019年6月13日发布的单曲。该歌曲由葛大为填词，林俊杰谱曲，为电影《少年的你》的主题曲 [1-2]。'],\n",
       " ['新年到',\n",
       "  '由众歌手首次大合唱演绎的《新年到》, 演绎歌手有JJ林俊杰，Rynn林宇中，李志清，BY2， Wil黄威尔， Phoebe菲比，黄启铭，汤小康，曾若冰， CHIN ，满江浤，陈泽耀。 [1]'],\n",
       " ['绝不绝', '《绝不绝》是林俊杰 /无畏契约共同演唱歌曲，唱片公司：JFJ Productions，发行时间：2024-07-20 [1]。']]"
      ]
     },
     "execution_count": 7,
     "metadata": {},
     "output_type": "execute_result"
    }
   ],
   "source": [
    "song_infos"
   ]
  },
  {
   "cell_type": "code",
   "execution_count": 10,
   "metadata": {},
   "outputs": [],
   "source": [
    "# 将歌曲信息添加进文件中保存\n",
    "add_df = pd.DataFrame(columns=[\"歌曲名称\",\"歌曲信息\"], data=song_infos)\n",
    "old_df = pd.read_csv(\"song_infos.csv\", index_col=0)\n",
    "new_df = pd.concat([old_df, add_df], ignore_index=True)\n",
    "new_df.to_csv(\"song_infos.csv\")"
   ]
  },
  {
   "cell_type": "code",
   "execution_count": 9,
   "metadata": {},
   "outputs": [
    {
     "data": {
      "text/html": [
       "<div>\n",
       "<style scoped>\n",
       "    .dataframe tbody tr th:only-of-type {\n",
       "        vertical-align: middle;\n",
       "    }\n",
       "\n",
       "    .dataframe tbody tr th {\n",
       "        vertical-align: top;\n",
       "    }\n",
       "\n",
       "    .dataframe thead th {\n",
       "        text-align: right;\n",
       "    }\n",
       "</style>\n",
       "<table border=\"1\" class=\"dataframe\">\n",
       "  <thead>\n",
       "    <tr style=\"text-align: right;\">\n",
       "      <th></th>\n",
       "      <th>歌曲名称</th>\n",
       "      <th>歌曲信息</th>\n",
       "    </tr>\n",
       "  </thead>\n",
       "  <tbody>\n",
       "    <tr>\n",
       "      <th>0</th>\n",
       "      <td>The Show</td>\n",
       "      <td>《The Show》是由Steve Aoki、Carl Ryden、James Daniel...</td>\n",
       "    </tr>\n",
       "    <tr>\n",
       "      <th>1</th>\n",
       "      <td>愿与愁</td>\n",
       "      <td>《愿与愁》是林俊杰演唱的歌曲，由小寒作词，林俊杰作曲，于2023年4月14日以单曲形式发行 ...</td>\n",
       "    </tr>\n",
       "    <tr>\n",
       "      <th>2</th>\n",
       "      <td>逆光白</td>\n",
       "      <td>《逆光白》是由易家扬作词，林俊杰作曲并演唱的一首歌曲，收录于林俊杰于2023年4月21日发行...</td>\n",
       "    </tr>\n",
       "    <tr>\n",
       "      <th>3</th>\n",
       "      <td>孤独娱乐</td>\n",
       "      <td>《孤独娱乐》是由易家扬作词，林俊杰作曲并演唱的一首歌曲，收录于2023年4月21日发行的专辑...</td>\n",
       "    </tr>\n",
       "    <tr>\n",
       "      <th>4</th>\n",
       "      <td>梦不凌乱</td>\n",
       "      <td>《梦不凌乱》是由方文山作词，林俊杰作曲并演唱的一首歌曲，收录于2023年4月21日发行的专辑...</td>\n",
       "    </tr>\n",
       "    <tr>\n",
       "      <th>...</th>\n",
       "      <td>...</td>\n",
       "      <td>...</td>\n",
       "    </tr>\n",
       "    <tr>\n",
       "      <th>291</th>\n",
       "      <td>不懂</td>\n",
       "      <td>《不懂》是林俊杰演唱的歌曲，由张思尔填词，林俊杰谱曲，收录在专辑《乐行者》中。</td>\n",
       "    </tr>\n",
       "    <tr>\n",
       "      <th>292</th>\n",
       "      <td>一千年后记得我</td>\n",
       "      <td>歌曲《一千年后记得我》，由林俊杰演唱，林秋离填词，林俊杰谱曲，收录于林俊杰2013年3月13...</td>\n",
       "    </tr>\n",
       "    <tr>\n",
       "      <th>293</th>\n",
       "      <td>我们很好</td>\n",
       "      <td>《我们很好》是林俊杰于2019年6月13日发布的单曲。该歌曲由葛大为填词，林俊杰谱曲，为电影...</td>\n",
       "    </tr>\n",
       "    <tr>\n",
       "      <th>294</th>\n",
       "      <td>新年到</td>\n",
       "      <td>由众歌手首次大合唱演绎的《新年到》, 演绎歌手有JJ林俊杰，Rynn林宇中，李志清，BY2，...</td>\n",
       "    </tr>\n",
       "    <tr>\n",
       "      <th>295</th>\n",
       "      <td>绝不绝</td>\n",
       "      <td>《绝不绝》是林俊杰 /无畏契约共同演唱歌曲，唱片公司：JFJ Productions，发行时...</td>\n",
       "    </tr>\n",
       "  </tbody>\n",
       "</table>\n",
       "<p>296 rows × 2 columns</p>\n",
       "</div>"
      ],
      "text/plain": [
       "         歌曲名称                                               歌曲信息\n",
       "0    The Show  《The Show》是由Steve Aoki、Carl Ryden、James Daniel...\n",
       "1         愿与愁  《愿与愁》是林俊杰演唱的歌曲，由小寒作词，林俊杰作曲，于2023年4月14日以单曲形式发行 ...\n",
       "2         逆光白  《逆光白》是由易家扬作词，林俊杰作曲并演唱的一首歌曲，收录于林俊杰于2023年4月21日发行...\n",
       "3        孤独娱乐  《孤独娱乐》是由易家扬作词，林俊杰作曲并演唱的一首歌曲，收录于2023年4月21日发行的专辑...\n",
       "4        梦不凌乱  《梦不凌乱》是由方文山作词，林俊杰作曲并演唱的一首歌曲，收录于2023年4月21日发行的专辑...\n",
       "..        ...                                                ...\n",
       "291        不懂            《不懂》是林俊杰演唱的歌曲，由张思尔填词，林俊杰谱曲，收录在专辑《乐行者》中。\n",
       "292   一千年后记得我  歌曲《一千年后记得我》，由林俊杰演唱，林秋离填词，林俊杰谱曲，收录于林俊杰2013年3月13...\n",
       "293      我们很好  《我们很好》是林俊杰于2019年6月13日发布的单曲。该歌曲由葛大为填词，林俊杰谱曲，为电影...\n",
       "294       新年到  由众歌手首次大合唱演绎的《新年到》, 演绎歌手有JJ林俊杰，Rynn林宇中，李志清，BY2，...\n",
       "295       绝不绝  《绝不绝》是林俊杰 /无畏契约共同演唱歌曲，唱片公司：JFJ Productions，发行时...\n",
       "\n",
       "[296 rows x 2 columns]"
      ]
     },
     "execution_count": 9,
     "metadata": {},
     "output_type": "execute_result"
    }
   ],
   "source": [
    "new_df"
   ]
  },
  {
   "cell_type": "code",
   "execution_count": null,
   "metadata": {},
   "outputs": [],
   "source": []
  }
 ],
 "metadata": {
  "kernelspec": {
   "display_name": "Python 3.10.4 ('KGraph': venv)",
   "language": "python",
   "name": "python3"
  },
  "language_info": {
   "codemirror_mode": {
    "name": "ipython",
    "version": 3
   },
   "file_extension": ".py",
   "mimetype": "text/x-python",
   "name": "python",
   "nbconvert_exporter": "python",
   "pygments_lexer": "ipython3",
   "version": "3.12.4"
  },
  "orig_nbformat": 4,
  "vscode": {
   "interpreter": {
    "hash": "a790821808f2bf3f37baf7342e2c8484289a7481ff0490d798038c1f5bd56717"
   }
  }
 },
 "nbformat": 4,
 "nbformat_minor": 2
}
